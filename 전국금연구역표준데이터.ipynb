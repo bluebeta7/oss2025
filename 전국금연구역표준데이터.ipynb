{
  "nbformat": 4,
  "nbformat_minor": 0,
  "metadata": {
    "colab": {
      "provenance": [],
      "authorship_tag": "ABX9TyP7/kBS0rINuVvPqA0x5IAT",
      "include_colab_link": true
    },
    "kernelspec": {
      "name": "python3",
      "display_name": "Python 3"
    },
    "language_info": {
      "name": "python"
    }
  },
  "cells": [
    {
      "cell_type": "markdown",
      "metadata": {
        "id": "view-in-github",
        "colab_type": "text"
      },
      "source": [
        "<a href=\"https://colab.research.google.com/github/bluebeta7/oss2025/blob/main/%EC%A0%84%EA%B5%AD%EA%B8%88%EC%97%B0%EA%B5%AC%EC%97%AD%ED%91%9C%EC%A4%80%EB%8D%B0%EC%9D%B4%ED%84%B0.ipynb\" target=\"_parent\"><img src=\"https://colab.research.google.com/assets/colab-badge.svg\" alt=\"Open In Colab\"/></a>"
      ]
    },
    {
      "cell_type": "code",
      "source": [
        "# prompt: /content/전국금연구역표준데이터.csv 를 분석해서 표로 나타내줘\n",
        "\n",
        "import pandas as pd\n",
        "\n",
        "try:\n",
        "    df = pd.read_csv('/content/전국금연구역표준데이터.csv', encoding='cp949') # 한글 인코딩 문제 해결\n",
        "    print(df.head()) # 데이터프레임의 처음 5행 출력\n",
        "    print(df.info()) # 데이터프레임 정보 출력 (컬럼, 데이터 타입, 결측치 등)\n",
        "    print(df.describe()) # 데이터프레임의 기술 통계량 출력\n",
        "except FileNotFoundError:\n",
        "    print(\"Error: File not found. Please upload the file to your Colab environment or provide the correct path.\")\n",
        "except Exception as e:\n",
        "    print(f\"An error occurred: {e}\")\n"
      ],
      "metadata": {
        "colab": {
          "base_uri": "https://localhost:8080/"
        },
        "collapsed": true,
        "id": "ZNRbeVy8M9A3",
        "outputId": "52e3a643-c46d-418c-b3d6-907d6401527c"
      },
      "execution_count": 5,
      "outputs": [
        {
          "output_type": "stream",
          "name": "stdout",
          "text": [
            "    금연구역명 금연구역범위상세  시도명     시군구명  금연구역구분 금연구역지정근거명  금연구역면적     위반과태료  \\\n",
            "0   프로당구장     시설전체  경기도  용인시 처인구  실내체육시설   국민건강증진법     NaN  100000.0   \n",
            "1  마평당구클럽     시설전체  경기도  용인시 처인구  실내체육시설   국민건강증진법     NaN  100000.0   \n",
            "2   스마일당구     시설전체  경기도  용인시 처인구  실내체육시설   국민건강증진법     NaN  100000.0   \n",
            "3    민당구장     시설전체  경기도  용인시 처인구  실내체육시설   국민건강증진법     NaN  100000.0   \n",
            "4  양지당구클럽     시설전체  경기도  용인시 처인구  실내체육시설   국민건강증진법     NaN  100000.0   \n",
            "\n",
            "       위반신고전화번호 소재지도로명주소                    소재지지번주소       관리기관명         위도  \\\n",
            "0  031-324-4953      NaN  경기도 용인시 처인구 포곡읍 둔전리 155-4  용인시 처인구보건소  37.269500   \n",
            "1  031-324-4953      NaN      경기도 용인시 처인구 마평동 649-5  용인시 처인구보건소  37.234669   \n",
            "2  031-324-4953      NaN     경기도 용인시 처인구 마평동 657-14  용인시 처인구보건소  37.235267   \n",
            "3  031-324-4953      NaN    경기도 용인시 처인구 백암면 백암리 426  용인시 처인구보건소  37.165001   \n",
            "4  031-324-4953      NaN  경기도 용인시 처인구 양지면 양지리 633-1  용인시 처인구보건소  37.234629   \n",
            "\n",
            "           경도     데이터기준일자   제공기관코드    제공기관명  \n",
            "0  127.219000  2024-06-14  4050000  경기도 용인시  \n",
            "1  127.214412  2024-06-14  4050000  경기도 용인시  \n",
            "2  127.212095  2024-06-14  4050000  경기도 용인시  \n",
            "3  127.372554  2024-06-14  4050000  경기도 용인시  \n",
            "4  127.280567  2024-06-14  4050000  경기도 용인시  \n",
            "<class 'pandas.core.frame.DataFrame'>\n",
            "RangeIndex: 50000 entries, 0 to 49999\n",
            "Data columns (total 17 columns):\n",
            " #   Column     Non-Null Count  Dtype  \n",
            "---  ------     --------------  -----  \n",
            " 0   금연구역명      50000 non-null  object \n",
            " 1   금연구역범위상세   50000 non-null  object \n",
            " 2   시도명        50000 non-null  object \n",
            " 3   시군구명       50000 non-null  object \n",
            " 4   금연구역구분     50000 non-null  object \n",
            " 5   금연구역지정근거명  50000 non-null  object \n",
            " 6   금연구역면적     4246 non-null   float64\n",
            " 7   위반과태료      42122 non-null  float64\n",
            " 8   위반신고전화번호   41101 non-null  object \n",
            " 9   소재지도로명주소   47186 non-null  object \n",
            " 10  소재지지번주소    19696 non-null  object \n",
            " 11  관리기관명      50000 non-null  object \n",
            " 12  위도         50000 non-null  float64\n",
            " 13  경도         50000 non-null  float64\n",
            " 14  데이터기준일자    50000 non-null  object \n",
            " 15  제공기관코드     50000 non-null  object \n",
            " 16  제공기관명      50000 non-null  object \n",
            "dtypes: float64(4), object(13)\n",
            "memory usage: 6.5+ MB\n",
            "None\n",
            "             금연구역면적          위반과태료            위도            경도\n",
            "count  4.246000e+03   42122.000000  50000.000000  50000.000000\n",
            "mean   1.605626e+03   95411.910498     36.529677    127.718386\n",
            "std    2.729342e+04   16783.620925      0.870188      0.968724\n",
            "min    0.000000e+00   20000.000000     33.459428    126.307790\n",
            "25%    2.564000e+01  100000.000000     35.810211    126.974780\n",
            "50%    9.600000e+01  100000.000000     36.771697    127.106953\n",
            "75%    2.000000e+02  100000.000000     37.281551    128.547296\n",
            "max    1.506500e+06  100006.000000     38.309413    129.458398\n"
          ]
        },
        {
          "output_type": "stream",
          "name": "stderr",
          "text": [
            "<ipython-input-5-de7d07e1f568>:6: DtypeWarning: Columns (15) have mixed types. Specify dtype option on import or set low_memory=False.\n",
            "  df = pd.read_csv('/content/전국금연구역표준데이터.csv', encoding='cp949') # 한글 인코딩 문제 해결\n"
          ]
        }
      ]
    }
  ]
}